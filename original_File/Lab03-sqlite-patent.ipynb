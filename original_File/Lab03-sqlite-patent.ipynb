{
 "cells": [
  {
   "cell_type": "markdown",
   "id": "bed2bbc5-9d29-4c0b-812e-9fcbe775a582",
   "metadata": {},
   "source": [
    "# CSCI 4253 / 5253 - Lab #3 - Patent Problem with SQL - SOLUTION\n",
    "<div>\n",
    " <h2> CSCI 4283 / 5253 \n",
    "  <IMG SRC=\"https://www.colorado.edu/cs/profiles/express/themes/cuspirit/logo.png\" WIDTH=50 ALIGN=\"right\"/> </h2>\n",
    "</div>"
   ]
  },
  {
   "cell_type": "markdown",
   "id": "43ac5403-4aa4-47e2-b7a9-4d6acfb24e54",
   "metadata": {},
   "source": [
    "In this assignment, we're going to solve a problem for which you'll also see the solution in Hadoop and then implement a PySpark solution. We have two databases\n",
    "* One contains information about patents\n",
    "* One contains information about patent citations (one patent citing the work of another)\n",
    "The problem we're going to solve is augmenting the original patent data to include the number of *co-state citations*. In other words, if patent X was issued to someone in Colorado and patent Y was also issued to someone in Colorado and X cites Y, then this is a co-state citation.\n",
    "\n",
    "The easiest way to solve this is to build an intermediary product from the patent citations table. That table contains `CITING` and `CITED` columns; you would augment it by adding `CITING_STATE` and `CITED_STATE`. Then, it becomes fairly simple to filter out all the cases where those states don't match. You can then use an sql `GROUP BY` to `COUNT(*)` all the co-state citations for a given patent and then join that with the original patents table resulting in an augmented table.\n",
    "\n",
    "The final results for the first 13 words, sorted in descending order by co-state citations looks like the following\n",
    "![this final output](final-output.png)\n",
    "\n",
    "The challenge is going to be that I want you do to this *a single SQL query*. We're assuming you've learned some SQL in a previous life and if not, [now is a great time to learn](https://www.sqlitetutorial.net/). Even if you've done basic SQL, you'll probably need to review [using `select` in a where-clause or using multiple joins](https://dba.stackexchange.com/questions/33553/using-select-in-the-where-clause-of-another-select).\n"
   ]
  },
  {
   "cell_type": "markdown",
   "id": "75ae9d56-4dc2-4e1a-8982-dd522a24b0ad",
   "metadata": {},
   "source": [
    "## Logistics"
   ]
  },
  {
   "cell_type": "markdown",
   "id": "112c64a4-99c2-4621-954e-2031fa008f6d",
   "metadata": {},
   "source": [
    "We're going to be using the SQLite3 system which runs entirely from a file (no server needed). The `Makefile` contains commands to download the raw data as ZIP files.\n",
    "\n",
    "We can run shell commands in our notebook using [builtin \"magic\" commands](https://ipython.readthedocs.io/en/stable/interactive/magics.html). You need to run this at least once prior to starting the lab to make certain you have the files and have created the `patents.sq3` database file. It will take a few minutes to complete & you should see that the `patents.sq3` file is about 645MBytes in size."
   ]
  },
  {
   "cell_type": "code",
   "execution_count": null,
   "id": "f5d299b6-4614-41a2-8945-11675d7597c3",
   "metadata": {},
   "outputs": [],
   "source": [
    "# Temporary fix to CSEL version conflict issue\n",
    "%pip install --upgrade --user ipython-sql==0.5.0"
   ]
  },
  {
   "cell_type": "code",
   "execution_count": null,
   "id": "152fb4fe-f124-417c-aded-5e0c2bb92126",
   "metadata": {},
   "outputs": [],
   "source": [
    "%%bash\n",
    "make\n",
    "rm patents.sq3\n",
    "zcat < acite75_99.zip | sqlite3 patents.sq3 \".mode csv\" \".import /dev/stdin citations\"\n",
    "zcat < apat63_99.zip | sqlite3 patents.sq3 \".mode csv\" \".import /dev/stdin patents\"\n",
    "ls -l patents.sq3"
   ]
  },
  {
   "cell_type": "markdown",
   "id": "9fb40c5d-e780-4fee-869a-20ce50adb18e",
   "metadata": {},
   "source": [
    "We'll use another \"magic\" to run SQL queries in notebook cells. The following will load the SQL extension and connect to the `patents.sq3` file."
   ]
  },
  {
   "cell_type": "code",
   "execution_count": null,
   "id": "fa55784a-c01e-403b-97b9-be8cbec4c058",
   "metadata": {},
   "outputs": [],
   "source": [
    "%load_ext sql\n",
    "%sql sqlite:///patents.sq3\n",
    "%config SqlMagic.style = '_DEPRECATED_DEFAULT'\n"
   ]
  },
  {
   "cell_type": "markdown",
   "id": "b6ae7776-adf1-496f-b654-c3e7edce1c0d",
   "metadata": {},
   "source": [
    "Following this, we can run individual SQL queries and see the result by putting `%%sql` at the front of a cell. If you don't have that, you'll be running Python code.\n",
    "\n",
    "So, for example, we can examine our two raw database tables."
   ]
  },
  {
   "cell_type": "code",
   "execution_count": null,
   "id": "4ba2bff0-bda6-4bf1-a9db-fa989cd28d43",
   "metadata": {},
   "outputs": [],
   "source": [
    "%%sql\n",
    "select * from patents limit 5;"
   ]
  },
  {
   "cell_type": "code",
   "execution_count": null,
   "id": "c00b1f9c-b477-44a5-9967-0d54435146a7",
   "metadata": {},
   "outputs": [],
   "source": [
    "%%sql\n",
    "select * from citations limit 5;"
   ]
  },
  {
   "cell_type": "markdown",
   "id": "e30dda7a-536f-48e9-bc7e-ed67a8c35c4e",
   "metadata": {},
   "source": [
    "If you want to create indexes over various fields, go ahead. It shouldn't affect the correctness of your results but may affect the performance."
   ]
  },
  {
   "cell_type": "markdown",
   "id": "c9fe9c78-3114-4dc8-a901-c8fd4c6279a2",
   "metadata": {},
   "source": [
    "## Steps to the full solution\n",
    "\n",
    "In order to determine when a *cited* patent and a *citing* patent are from the same state,\n",
    "we're going to need to produce a series of tables that combine information from the citations and the patents tables.\n",
    "\n",
    "We can use a simple left-outer join (or just **JOIN**) to get the information for one or the other column in the citations table. For example, we can determine the state for *cited* patents using this join:"
   ]
  },
  {
   "cell_type": "code",
   "execution_count": null,
   "id": "bafd64ef-c332-4095-88d8-75e79a020256",
   "metadata": {},
   "outputs": [],
   "source": [
    "%%sql\n",
    "SELECT CITED, patents.POSTATE as CITED_POSTATE, CITING\n",
    "FROM citations JOIN patents\n",
    "WHERE CITED==PATENT limit 5;"
   ]
  },
  {
   "cell_type": "markdown",
   "id": "b01c1914-ea28-491c-b677-0bd0b8e4b0b2",
   "metadata": {},
   "source": [
    "Then, you'll need to do the same for the `CITING` column as well. As mentioned earlier, you may want to review [using `select` in a where-clause or using multiple joins](https://dba.stackexchange.com/questions/33553/using-select-in-the-where-clause-of-another-select)."
   ]
  },
  {
   "cell_type": "markdown",
   "id": "11b94588-6521-4d8d-8e97-6912ce72a57b",
   "metadata": {},
   "source": [
    "## Your solution\n",
    "\n",
    "Eneter your solution as a single SQL query below:"
   ]
  },
  {
   "cell_type": "code",
   "execution_count": null,
   "id": "2717ea88-bdfe-4acb-8e02-644f0ebb215d",
   "metadata": {},
   "outputs": [],
   "source": [
    "# Your solution should be in the last cell"
   ]
  },
  {
   "cell_type": "code",
   "execution_count": null,
   "id": "2cb6e042-933c-4de8-af6f-026dfa89f34c",
   "metadata": {},
   "outputs": [],
   "source": []
  }
 ],
 "metadata": {
  "kernelspec": {
   "display_name": "Python 3 (ipykernel)",
   "language": "python",
   "name": "python3"
  },
  "language_info": {
   "codemirror_mode": {
    "name": "ipython",
    "version": 3
   },
   "file_extension": ".py",
   "mimetype": "text/x-python",
   "name": "python",
   "nbconvert_exporter": "python",
   "pygments_lexer": "ipython3",
   "version": "3.11.9"
  }
 },
 "nbformat": 4,
 "nbformat_minor": 5
}
